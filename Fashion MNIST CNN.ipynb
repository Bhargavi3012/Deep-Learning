{
  "nbformat": 4,
  "nbformat_minor": 0,
  "metadata": {
    "colab": {
      "name": "Assignment9.ipynb",
      "provenance": [],
      "collapsed_sections": []
    },
    "kernelspec": {
      "name": "python3",
      "display_name": "Python 3"
    },
    "accelerator": "GPU"
  },
  "cells": [
    {
      "cell_type": "code",
      "metadata": {
        "id": "uU540yneJF9Z",
        "colab_type": "code",
        "colab": {}
      },
      "source": [
        "import tensorflow as tf\n",
        "from tensorflow import keras\n",
        "from tensorflow.keras import layers, models\n",
        "from tensorflow.keras.models import load_model\n",
        "import os\n",
        "import numpy as np\n",
        "import matplotlib.pyplot as plt"
      ],
      "execution_count": 1,
      "outputs": []
    },
    {
      "cell_type": "code",
      "metadata": {
        "id": "Rbxsk_8pJNky",
        "colab_type": "code",
        "colab": {}
      },
      "source": [
        "# Fashion - MNIST \n",
        "fashion_mnist = keras.datasets.fashion_mnist\n",
        "\n",
        "(train_images, train_labels), (test_images, test_labels) = fashion_mnist.load_data()"
      ],
      "execution_count": 2,
      "outputs": []
    },
    {
      "cell_type": "code",
      "metadata": {
        "id": "ikXdsv8yJWQo",
        "colab_type": "code",
        "colab": {}
      },
      "source": [
        "class_names = ['T-shirt/top', 'Trouser', 'Pullover', 'Dress', 'Coat', \n",
        "               'Sandal', 'Shirt', 'Sneaker', 'Bag', 'Ankle boot']"
      ],
      "execution_count": 3,
      "outputs": []
    },
    {
      "cell_type": "code",
      "metadata": {
        "id": "peWYOlkqJpC5",
        "colab_type": "code",
        "colab": {
          "base_uri": "https://localhost:8080/",
          "height": 34
        },
        "outputId": "57c79675-0287-4371-c96c-fc007d845fef"
      },
      "source": [
        "train_images.shape"
      ],
      "execution_count": 4,
      "outputs": [
        {
          "output_type": "execute_result",
          "data": {
            "text/plain": [
              "(60000, 28, 28)"
            ]
          },
          "metadata": {
            "tags": []
          },
          "execution_count": 4
        }
      ]
    },
    {
      "cell_type": "code",
      "metadata": {
        "id": "C-cntDrZJneT",
        "colab_type": "code",
        "colab": {
          "base_uri": "https://localhost:8080/",
          "height": 34
        },
        "outputId": "fca739a5-a6b5-479e-87e6-e77522e51f7c"
      },
      "source": [
        "train_labels.shape"
      ],
      "execution_count": 5,
      "outputs": [
        {
          "output_type": "execute_result",
          "data": {
            "text/plain": [
              "(60000,)"
            ]
          },
          "metadata": {
            "tags": []
          },
          "execution_count": 5
        }
      ]
    },
    {
      "cell_type": "code",
      "metadata": {
        "id": "R9xr_vcEJ12r",
        "colab_type": "code",
        "colab": {
          "base_uri": "https://localhost:8080/",
          "height": 34
        },
        "outputId": "62931556-7c3d-45d9-8586-cd9e65ef6b30"
      },
      "source": [
        "test_images.shape"
      ],
      "execution_count": 6,
      "outputs": [
        {
          "output_type": "execute_result",
          "data": {
            "text/plain": [
              "(10000, 28, 28)"
            ]
          },
          "metadata": {
            "tags": []
          },
          "execution_count": 6
        }
      ]
    },
    {
      "cell_type": "code",
      "metadata": {
        "id": "zemLDskFJ5wB",
        "colab_type": "code",
        "colab": {
          "base_uri": "https://localhost:8080/",
          "height": 34
        },
        "outputId": "4d02919b-0895-4e69-fd40-89b608eac292"
      },
      "source": [
        "test_labels.shape"
      ],
      "execution_count": 7,
      "outputs": [
        {
          "output_type": "execute_result",
          "data": {
            "text/plain": [
              "(10000,)"
            ]
          },
          "metadata": {
            "tags": []
          },
          "execution_count": 7
        }
      ]
    },
    {
      "cell_type": "code",
      "metadata": {
        "id": "MedEH0iZJ9Ow",
        "colab_type": "code",
        "colab": {
          "base_uri": "https://localhost:8080/",
          "height": 282
        },
        "outputId": "38e4c619-ee13-4ebe-e677-fdae9f411ed4"
      },
      "source": [
        "plt.figure()\n",
        "plt.imshow(np.squeeze(train_images[220]))"
      ],
      "execution_count": 8,
      "outputs": [
        {
          "output_type": "execute_result",
          "data": {
            "text/plain": [
              "<matplotlib.image.AxesImage at 0x7fb150ccf2b0>"
            ]
          },
          "metadata": {
            "tags": []
          },
          "execution_count": 8
        },
        {
          "output_type": "display_data",
          "data": {
            "image/png": "[encoded data removed]",
            "text/plain": [
              "<Figure size 432x288 with 1 Axes>"
            ]
          },
          "metadata": {
            "tags": [],
            "needs_background": "light"
          }
        }
      ]
    },
    {
      "cell_type": "code",
      "metadata": {
        "id": "k_Zpg_atKB3S",
        "colab_type": "code",
        "colab": {
          "base_uri": "https://localhost:8080/",
          "height": 34
        },
        "outputId": "eb1c96d2-afc8-4d48-dc6f-8851c16d8cdb"
      },
      "source": [
        "train_labels[220]"
      ],
      "execution_count": 9,
      "outputs": [
        {
          "output_type": "execute_result",
          "data": {
            "text/plain": [
              "8"
            ]
          },
          "metadata": {
            "tags": []
          },
          "execution_count": 9
        }
      ]
    },
    {
      "cell_type": "code",
      "metadata": {
        "id": "NtaSUdmWKYPw",
        "colab_type": "code",
        "colab": {
          "base_uri": "https://localhost:8080/",
          "height": 364
        },
        "outputId": "6e80d6b6-f091-4c1a-b8b9-0a842402abeb"
      },
      "source": [
        "plt.figure(figsize=(10,10))\n",
        "for i in range(15):\n",
        "    plt.subplot(5,5,i+1)\n",
        "    plt.xticks([])\n",
        "    plt.yticks([])\n",
        "    plt.imshow(train_images[i], cmap=plt.cm.binary)\n",
        "    plt.xlabel(class_names[train_labels[i]])\n",
        "plt.show()"
      ],
      "execution_count": 10,
      "outputs": [
        {
          "output_type": "display_data",
          "data": {
            "image/png": "[encoded data removed]",
            "text/plain": [
              "<Figure size 720x720 with 15 Axes>"
            ]
          },
          "metadata": {
            "tags": []
          }
        }
      ]
    },
    {
      "cell_type": "code",
      "metadata": {
        "id": "Rp7WaZUoKhkC",
        "colab_type": "code",
        "colab": {}
      },
      "source": [
        "train_images = train_images.reshape((60000, 28, 28, 1))\n",
        "test_images = test_images.reshape((10000, 28, 28, 1))"
      ],
      "execution_count": 11,
      "outputs": []
    },
    {
      "cell_type": "markdown",
      "metadata": {
        "id": "8Rkpwg4NKzV1",
        "colab_type": "text"
      },
      "source": [
        "The pixel values for the images lie between 0 to 255 now, which is a large range.\n",
        "\n",
        "Let us normalize these values to a range from 0 to 1. To do this, we can simply divide each pixel value with 255"
      ]
    },
    {
      "cell_type": "code",
      "metadata": {
        "id": "8EnrBRh7K2IV",
        "colab_type": "code",
        "colab": {}
      },
      "source": [
        "train_images_norm = train_images / 255.0"
      ],
      "execution_count": 12,
      "outputs": []
    },
    {
      "cell_type": "code",
      "metadata": {
        "id": "hi-SbPppK5Wf",
        "colab_type": "code",
        "colab": {}
      },
      "source": [
        "test_images_norm = test_images / 255.0"
      ],
      "execution_count": 13,
      "outputs": []
    },
    {
      "cell_type": "markdown",
      "metadata": {
        "id": "u_gxc7UMLRTX",
        "colab_type": "text"
      },
      "source": [
        "Let us now create convolutional layers for our CNN model\n"
      ]
    },
    {
      "cell_type": "code",
      "metadata": {
        "id": "W2NqZmsuLSdX",
        "colab_type": "code",
        "colab": {}
      },
      "source": [
        "#First convolutional Layer\n",
        "\n",
        "conv1 = layers.Conv2D(32, (3,3), activation='relu', input_shape=(28,28,1) )"
      ],
      "execution_count": 14,
      "outputs": []
    },
    {
      "cell_type": "code",
      "metadata": {
        "id": "bja_31fdLdZ3",
        "colab_type": "code",
        "colab": {}
      },
      "source": [
        "#Second convolutional Layer\n",
        "\n",
        "conv2 = layers.Conv2D(64, (3,3), activation='relu')"
      ],
      "execution_count": 15,
      "outputs": []
    },
    {
      "cell_type": "code",
      "metadata": {
        "id": "LSjVr8U1Lpza",
        "colab_type": "code",
        "colab": {}
      },
      "source": [
        "#Third convolutional Layer\n",
        "\n",
        "conv3 = layers.Conv2D(128, (3,3), activation='relu')"
      ],
      "execution_count": 16,
      "outputs": []
    },
    {
      "cell_type": "markdown",
      "metadata": {
        "id": "li626uqdMFyI",
        "colab_type": "text"
      },
      "source": [
        "Let us create a Max Pooing Layer"
      ]
    },
    {
      "cell_type": "code",
      "metadata": {
        "id": "PVLbEeRhL0a9",
        "colab_type": "code",
        "colab": {}
      },
      "source": [
        "#Creating first Max. Pooling Layer\n",
        "max_pool_1 = layers.MaxPooling2D((2,2))\n",
        "\n",
        "#Creating second Max. Pooling Layer\n",
        "max_pool_2 = layers.MaxPooling2D((2,2))\n",
        "\n",
        "#Creating third Max. Pooling Layer\n",
        "max_pool_3 = layers.MaxPooling2D((2,2))"
      ],
      "execution_count": 17,
      "outputs": []
    },
    {
      "cell_type": "markdown",
      "metadata": {
        "id": "1n-buChzMPLA",
        "colab_type": "text"
      },
      "source": [
        "Let us create a Fully Connected Layer (Hidden Layer) and an Output Layer to perform Classification"
      ]
    },
    {
      "cell_type": "code",
      "metadata": {
        "id": "K7BSXLRHL_p3",
        "colab_type": "code",
        "colab": {}
      },
      "source": [
        "# Fully Connected (FC) Layer i.e. hidden layer expects input in 1-D format (1-D array), hence, we need to convert\n",
        "# 2-D output (2-D array) of last convolutional layer (conv3) to 1-D array i.e. we need to flatten the 2-D array\n",
        "# to 1-D array\n",
        "\n",
        "flat_layer = layers.Flatten()"
      ],
      "execution_count": 18,
      "outputs": []
    },
    {
      "cell_type": "code",
      "metadata": {
        "id": "gPeoc-wLMY-K",
        "colab_type": "code",
        "colab": {}
      },
      "source": [
        "# Fully Connected (FC) Layer - Hidden(Dense) Layer\n",
        "# Normally, the number of neurons that we keep in FC layer should be equal to the number of neurons in just\n",
        "# immediate previous convolutional layer\n",
        "\n",
        "fc = layers.Dense(128, activation='relu')"
      ],
      "execution_count": 19,
      "outputs": []
    },
    {
      "cell_type": "code",
      "metadata": {
        "id": "ZnfQ_vLjMb4u",
        "colab_type": "code",
        "colab": {}
      },
      "source": [
        "#Output Layer\n",
        "\n",
        "output = layers.Dense(10, 'softmax')"
      ],
      "execution_count": 20,
      "outputs": []
    },
    {
      "cell_type": "markdown",
      "metadata": {
        "id": "5e7kDpfPM0TE",
        "colab_type": "text"
      },
      "source": [
        "Let us now create the model (CNN model) structure using the above defined layers"
      ]
    },
    {
      "cell_type": "code",
      "metadata": {
        "id": "KQ4m05-iMrFY",
        "colab_type": "code",
        "colab": {}
      },
      "source": [
        "model = models.Sequential()\n",
        "\n",
        "model.add(conv1)\n",
        "model.add(conv2)\n",
        "model.add(conv3)\n",
        "model.add(max_pool_1)\n",
        "model.add(flat_layer)\n",
        "model.add(fc)\n",
        "model.add(output)"
      ],
      "execution_count": 21,
      "outputs": []
    },
    {
      "cell_type": "code",
      "metadata": {
        "id": "2NtudrisM3_y",
        "colab_type": "code",
        "colab": {
          "base_uri": "https://localhost:8080/",
          "height": 386
        },
        "outputId": "7b9d29a3-a8e5-49ba-a817-4f541935dd77"
      },
      "source": [
        "model.summary()"
      ],
      "execution_count": 22,
      "outputs": [
        {
          "output_type": "stream",
          "text": [
            "Model: \"sequential\"\n",
            "_________________________________________________________________\n",
            "Layer (type)                 Output Shape              Param #   \n",
            "=================================================================\n",
            "conv2d (Conv2D)              (None, 26, 26, 32)        320       \n",
            "_________________________________________________________________\n",
            "conv2d_1 (Conv2D)            (None, 24, 24, 64)        18496     \n",
            "_________________________________________________________________\n",
            "conv2d_2 (Conv2D)            (None, 22, 22, 128)       73856     \n",
            "_________________________________________________________________\n",
            "max_pooling2d (MaxPooling2D) (None, 11, 11, 128)       0         \n",
            "_________________________________________________________________\n",
            "flatten (Flatten)            (None, 15488)             0         \n",
            "_________________________________________________________________\n",
            "dense (Dense)                (None, 128)               1982592   \n",
            "_________________________________________________________________\n",
            "dense_1 (Dense)              (None, 10)                1290      \n",
            "=================================================================\n",
            "Total params: 2,076,554\n",
            "Trainable params: 2,076,554\n",
            "Non-trainable params: 0\n",
            "_________________________________________________________________\n"
          ],
          "name": "stdout"
        }
      ]
    },
    {
      "cell_type": "code",
      "metadata": {
        "id": "go5IqBlPM5Sn",
        "colab_type": "code",
        "colab": {}
      },
      "source": [
        "model.compile(optimizer='adam',\n",
        "              loss='sparse_categorical_crossentropy',\n",
        "              metrics=['accuracy'])"
      ],
      "execution_count": 23,
      "outputs": []
    },
    {
      "cell_type": "code",
      "metadata": {
        "id": "5-Sm_CsKNC7y",
        "colab_type": "code",
        "colab": {
          "base_uri": "https://localhost:8080/",
          "height": 706
        },
        "outputId": "89bee3a8-3eaf-42a2-c145-04bc54d2cbcf"
      },
      "source": [
        "model.fit(train_images_norm, train_labels, epochs=20, batch_size=32, shuffle=True, validation_split=0.1)"
      ],
      "execution_count": 24,
      "outputs": [
        {
          "output_type": "stream",
          "text": [
            "Epoch 1/20\n",
            "1688/1688 [==============================] - 9s 5ms/step - loss: 0.3673 - accuracy: 0.8678 - val_loss: 0.2809 - val_accuracy: 0.8960\n",
            "Epoch 2/20\n",
            "1688/1688 [==============================] - 9s 5ms/step - loss: 0.2253 - accuracy: 0.9167 - val_loss: 0.2241 - val_accuracy: 0.9165\n",
            "Epoch 3/20\n",
            "1688/1688 [==============================] - 9s 5ms/step - loss: 0.1708 - accuracy: 0.9371 - val_loss: 0.2425 - val_accuracy: 0.9133\n",
            "Epoch 4/20\n",
            "1688/1688 [==============================] - 9s 5ms/step - loss: 0.1260 - accuracy: 0.9533 - val_loss: 0.2342 - val_accuracy: 0.9212\n",
            "Epoch 5/20\n",
            "1688/1688 [==============================] - 9s 5ms/step - loss: 0.0909 - accuracy: 0.9664 - val_loss: 0.2584 - val_accuracy: 0.9252\n",
            "Epoch 6/20\n",
            "1688/1688 [==============================] - 9s 5ms/step - loss: 0.0669 - accuracy: 0.9753 - val_loss: 0.2734 - val_accuracy: 0.9202\n",
            "Epoch 7/20\n",
            "1688/1688 [==============================] - 9s 5ms/step - loss: 0.0476 - accuracy: 0.9826 - val_loss: 0.3349 - val_accuracy: 0.9235\n",
            "Epoch 8/20\n",
            "1688/1688 [==============================] - 9s 5ms/step - loss: 0.0367 - accuracy: 0.9864 - val_loss: 0.3654 - val_accuracy: 0.9225\n",
            "Epoch 9/20\n",
            "1688/1688 [==============================] - 9s 5ms/step - loss: 0.0292 - accuracy: 0.9891 - val_loss: 0.4709 - val_accuracy: 0.9163\n",
            "Epoch 10/20\n",
            "1688/1688 [==============================] - 9s 5ms/step - loss: 0.0282 - accuracy: 0.9904 - val_loss: 0.4364 - val_accuracy: 0.9212\n",
            "Epoch 11/20\n",
            "1688/1688 [==============================] - 9s 5ms/step - loss: 0.0257 - accuracy: 0.9908 - val_loss: 0.4172 - val_accuracy: 0.9195\n",
            "Epoch 12/20\n",
            "1688/1688 [==============================] - 9s 5ms/step - loss: 0.0221 - accuracy: 0.9926 - val_loss: 0.5219 - val_accuracy: 0.9192\n",
            "Epoch 13/20\n",
            "1688/1688 [==============================] - 9s 5ms/step - loss: 0.0226 - accuracy: 0.9923 - val_loss: 0.4960 - val_accuracy: 0.9207\n",
            "Epoch 14/20\n",
            "1688/1688 [==============================] - 9s 5ms/step - loss: 0.0157 - accuracy: 0.9947 - val_loss: 0.6203 - val_accuracy: 0.9160\n",
            "Epoch 15/20\n",
            "1688/1688 [==============================] - 9s 5ms/step - loss: 0.0181 - accuracy: 0.9939 - val_loss: 0.5644 - val_accuracy: 0.9240\n",
            "Epoch 16/20\n",
            "1688/1688 [==============================] - 9s 5ms/step - loss: 0.0191 - accuracy: 0.9942 - val_loss: 0.5434 - val_accuracy: 0.9192\n",
            "Epoch 17/20\n",
            "1688/1688 [==============================] - 9s 5ms/step - loss: 0.0165 - accuracy: 0.9949 - val_loss: 0.6438 - val_accuracy: 0.9197\n",
            "Epoch 18/20\n",
            "1688/1688 [==============================] - 9s 5ms/step - loss: 0.0150 - accuracy: 0.9953 - val_loss: 0.6718 - val_accuracy: 0.9175\n",
            "Epoch 19/20\n",
            "1688/1688 [==============================] - 9s 5ms/step - loss: 0.0146 - accuracy: 0.9953 - val_loss: 0.6179 - val_accuracy: 0.9215\n",
            "Epoch 20/20\n",
            "1688/1688 [==============================] - 9s 5ms/step - loss: 0.0169 - accuracy: 0.9951 - val_loss: 0.6423 - val_accuracy: 0.9167\n"
          ],
          "name": "stdout"
        },
        {
          "output_type": "execute_result",
          "data": {
            "text/plain": [
              "<tensorflow.python.keras.callbacks.History at 0x7fb1401255c0>"
            ]
          },
          "metadata": {
            "tags": []
          },
          "execution_count": 24
        }
      ]
    },
    {
      "cell_type": "code",
      "metadata": {
        "id": "Yv9FOd8xOD1R",
        "colab_type": "code",
        "colab": {
          "base_uri": "https://localhost:8080/",
          "height": 34
        },
        "outputId": "daa7f9e9-3250-4369-cd59-3bf2be7e012d"
      },
      "source": [
        "test_loss, test_accuracy = model.evaluate(test_images_norm, test_labels)"
      ],
      "execution_count": 25,
      "outputs": [
        {
          "output_type": "stream",
          "text": [
            "313/313 [==============================] - 1s 2ms/step - loss: 0.7005 - accuracy: 0.9101\n"
          ],
          "name": "stdout"
        }
      ]
    },
    {
      "cell_type": "code",
      "metadata": {
        "id": "EhG-qeyHr0ko",
        "colab_type": "code",
        "colab": {
          "base_uri": "https://localhost:8080/",
          "height": 34
        },
        "outputId": "3339f258-3730-4829-ba16-f41687e60654"
      },
      "source": [
        "print(test_accuracy)"
      ],
      "execution_count": 26,
      "outputs": [
        {
          "output_type": "stream",
          "text": [
            "0.910099983215332\n"
          ],
          "name": "stdout"
        }
      ]
    },
    {
      "cell_type": "markdown",
      "metadata": {
        "id": "-Ar-yoQBsUo_",
        "colab_type": "text"
      },
      "source": [
        "We observe from above that the model is overfitting (Training Accuracy - 99% ; Test Accuracy - 92%)"
      ]
    },
    {
      "cell_type": "markdown",
      "metadata": {
        "id": "-lAKqNHvsfRU",
        "colab_type": "text"
      },
      "source": [
        "Need to apply Dropout"
      ]
    },
    {
      "cell_type": "code",
      "metadata": {
        "id": "Hd5J73nGsjo0",
        "colab_type": "code",
        "colab": {}
      },
      "source": [
        "# Creating first dropout layer (for the first Conv. layer 'conv1')\n",
        "drop_1 = keras.layers.Dropout(0.5)\n",
        "# Creating second dropout layer (for the second Conv. layer 'conv2')\n",
        "drop_2 = keras.layers.Dropout(0.5)\n",
        "# Creating third dropout layer (for the third Conv. layer 'conv3')\n",
        "drop_3 = keras.layers.Dropout(0.5)"
      ],
      "execution_count": 27,
      "outputs": []
    },
    {
      "cell_type": "code",
      "metadata": {
        "id": "c5ilrbIzPJoW",
        "colab_type": "code",
        "colab": {}
      },
      "source": [
        "fc_new = layers.Dense(128, activation='relu')"
      ],
      "execution_count": 28,
      "outputs": []
    },
    {
      "cell_type": "code",
      "metadata": {
        "id": "HwD4td_vPJ3n",
        "colab_type": "code",
        "colab": {}
      },
      "source": [
        "output_new = layers.Dense(10, 'softmax')"
      ],
      "execution_count": 29,
      "outputs": []
    },
    {
      "cell_type": "code",
      "metadata": {
        "id": "3mAAb5K6tAfY",
        "colab_type": "code",
        "colab": {}
      },
      "source": [
        "# Let us create a new neural network by applying these above created Dropout Layers to the respecive convolutional Layers \n",
        "\n",
        "# Please note that the Dropout layer for all the convolutional layers will be applied after the pooling layer (max. pool layer)\n",
        "\n",
        "new_model = models.Sequential()\n",
        "\n",
        "new_model.add(conv1)\n",
        "# No Pooling Layer and Dropout layer for first Convolutional layer 'conv1'\n",
        "new_model.add(conv2)\n",
        "new_model.add(max_pool_2)\n",
        "new_model.add(drop_2)\n",
        "new_model.add(conv3)\n",
        "new_model.add(max_pool_3)\n",
        "new_model.add(drop_3)\n",
        "new_model.add(flat_layer)\n",
        "new_model.add(fc_new)\n",
        "new_model.add(output_new)"
      ],
      "execution_count": 30,
      "outputs": []
    },
    {
      "cell_type": "code",
      "metadata": {
        "id": "FyvNRRxRtSsZ",
        "colab_type": "code",
        "colab": {
          "base_uri": "https://localhost:8080/",
          "height": 487
        },
        "outputId": "252df07d-76a5-4dcf-880d-d846ae51ed2c"
      },
      "source": [
        "new_model.summary()"
      ],
      "execution_count": 31,
      "outputs": [
        {
          "output_type": "stream",
          "text": [
            "Model: \"sequential_1\"\n",
            "_________________________________________________________________\n",
            "Layer (type)                 Output Shape              Param #   \n",
            "=================================================================\n",
            "conv2d (Conv2D)              (None, 26, 26, 32)        320       \n",
            "_________________________________________________________________\n",
            "conv2d_1 (Conv2D)            (None, 24, 24, 64)        18496     \n",
            "_________________________________________________________________\n",
            "max_pooling2d_1 (MaxPooling2 (None, 12, 12, 64)        0         \n",
            "_________________________________________________________________\n",
            "dropout_1 (Dropout)          (None, 12, 12, 64)        0         \n",
            "_________________________________________________________________\n",
            "conv2d_2 (Conv2D)            multiple                  73856     \n",
            "_________________________________________________________________\n",
            "max_pooling2d_2 (MaxPooling2 (None, 5, 5, 128)         0         \n",
            "_________________________________________________________________\n",
            "dropout_2 (Dropout)          (None, 5, 5, 128)         0         \n",
            "_________________________________________________________________\n",
            "flatten (Flatten)            multiple                  0         \n",
            "_________________________________________________________________\n",
            "dense_2 (Dense)              (None, 128)               409728    \n",
            "_________________________________________________________________\n",
            "dense_3 (Dense)              (None, 10)                1290      \n",
            "=================================================================\n",
            "Total params: 503,690\n",
            "Trainable params: 503,690\n",
            "Non-trainable params: 0\n",
            "_________________________________________________________________\n"
          ],
          "name": "stdout"
        }
      ]
    },
    {
      "cell_type": "code",
      "metadata": {
        "id": "V5ezaek_ttIO",
        "colab_type": "code",
        "colab": {}
      },
      "source": [
        "new_model.compile(optimizer='adam',\n",
        "              loss='sparse_categorical_crossentropy',\n",
        "              metrics=['accuracy'])"
      ],
      "execution_count": 32,
      "outputs": []
    },
    {
      "cell_type": "code",
      "metadata": {
        "id": "wrEzLegvzTVN",
        "colab_type": "code",
        "colab": {
          "base_uri": "https://localhost:8080/",
          "height": 1000
        },
        "outputId": "dbb577ec-8efb-4321-d884-70b0555cc044"
      },
      "source": [
        "history = new_model.fit(train_images_norm, train_labels, epochs=30, batch_size=32, shuffle=True, validation_split=0.1)"
      ],
      "execution_count": 33,
      "outputs": [
        {
          "output_type": "stream",
          "text": [
            "Epoch 1/30\n",
            "1688/1688 [==============================] - 6s 4ms/step - loss: 0.4217 - accuracy: 0.8475 - val_loss: 0.2793 - val_accuracy: 0.8985\n",
            "Epoch 2/30\n",
            "1688/1688 [==============================] - 6s 4ms/step - loss: 0.3001 - accuracy: 0.8881 - val_loss: 0.2485 - val_accuracy: 0.9092\n",
            "Epoch 3/30\n",
            "1688/1688 [==============================] - 6s 4ms/step - loss: 0.2731 - accuracy: 0.8984 - val_loss: 0.2434 - val_accuracy: 0.9105\n",
            "Epoch 4/30\n",
            "1688/1688 [==============================] - 6s 4ms/step - loss: 0.2525 - accuracy: 0.9071 - val_loss: 0.2218 - val_accuracy: 0.9173\n",
            "Epoch 5/30\n",
            "1688/1688 [==============================] - 6s 4ms/step - loss: 0.2389 - accuracy: 0.9106 - val_loss: 0.2215 - val_accuracy: 0.9188\n",
            "Epoch 6/30\n",
            "1688/1688 [==============================] - 6s 4ms/step - loss: 0.2282 - accuracy: 0.9143 - val_loss: 0.2120 - val_accuracy: 0.9198\n",
            "Epoch 7/30\n",
            "1688/1688 [==============================] - 6s 4ms/step - loss: 0.2214 - accuracy: 0.9165 - val_loss: 0.2094 - val_accuracy: 0.9238\n",
            "Epoch 8/30\n",
            "1688/1688 [==============================] - 6s 4ms/step - loss: 0.2084 - accuracy: 0.9218 - val_loss: 0.2101 - val_accuracy: 0.9253\n",
            "Epoch 9/30\n",
            "1688/1688 [==============================] - 6s 4ms/step - loss: 0.2043 - accuracy: 0.9229 - val_loss: 0.2021 - val_accuracy: 0.9267\n",
            "Epoch 10/30\n",
            "1688/1688 [==============================] - 6s 4ms/step - loss: 0.1985 - accuracy: 0.9259 - val_loss: 0.2212 - val_accuracy: 0.9213\n",
            "Epoch 11/30\n",
            "1688/1688 [==============================] - 6s 4ms/step - loss: 0.1926 - accuracy: 0.9283 - val_loss: 0.2013 - val_accuracy: 0.9228\n",
            "Epoch 12/30\n",
            "1688/1688 [==============================] - 6s 4ms/step - loss: 0.1933 - accuracy: 0.9280 - val_loss: 0.1954 - val_accuracy: 0.9278\n",
            "Epoch 13/30\n",
            "1688/1688 [==============================] - 7s 4ms/step - loss: 0.1860 - accuracy: 0.9289 - val_loss: 0.2017 - val_accuracy: 0.9263\n",
            "Epoch 14/30\n",
            "1688/1688 [==============================] - 7s 4ms/step - loss: 0.1813 - accuracy: 0.9321 - val_loss: 0.2063 - val_accuracy: 0.9242\n",
            "Epoch 15/30\n",
            "1688/1688 [==============================] - 6s 4ms/step - loss: 0.1793 - accuracy: 0.9325 - val_loss: 0.1998 - val_accuracy: 0.9260\n",
            "Epoch 16/30\n",
            "1688/1688 [==============================] - 6s 4ms/step - loss: 0.1788 - accuracy: 0.9335 - val_loss: 0.2172 - val_accuracy: 0.9207\n",
            "Epoch 17/30\n",
            "1688/1688 [==============================] - 6s 4ms/step - loss: 0.1711 - accuracy: 0.9345 - val_loss: 0.1942 - val_accuracy: 0.9252\n",
            "Epoch 18/30\n",
            "1688/1688 [==============================] - 6s 4ms/step - loss: 0.1707 - accuracy: 0.9364 - val_loss: 0.1996 - val_accuracy: 0.9263\n",
            "Epoch 19/30\n",
            "1688/1688 [==============================] - 6s 4ms/step - loss: 0.1664 - accuracy: 0.9364 - val_loss: 0.2030 - val_accuracy: 0.9262\n",
            "Epoch 20/30\n",
            "1688/1688 [==============================] - 6s 4ms/step - loss: 0.1673 - accuracy: 0.9384 - val_loss: 0.1961 - val_accuracy: 0.9253\n",
            "Epoch 21/30\n",
            "1688/1688 [==============================] - 6s 4ms/step - loss: 0.1641 - accuracy: 0.9383 - val_loss: 0.1937 - val_accuracy: 0.9253\n",
            "Epoch 22/30\n",
            "1688/1688 [==============================] - 6s 4ms/step - loss: 0.1640 - accuracy: 0.9386 - val_loss: 0.1954 - val_accuracy: 0.9305\n",
            "Epoch 23/30\n",
            "1688/1688 [==============================] - 6s 4ms/step - loss: 0.1577 - accuracy: 0.9394 - val_loss: 0.2004 - val_accuracy: 0.9245\n",
            "Epoch 24/30\n",
            "1688/1688 [==============================] - 6s 4ms/step - loss: 0.1541 - accuracy: 0.9414 - val_loss: 0.1902 - val_accuracy: 0.9292\n",
            "Epoch 25/30\n",
            "1688/1688 [==============================] - 6s 4ms/step - loss: 0.1564 - accuracy: 0.9421 - val_loss: 0.1921 - val_accuracy: 0.9302\n",
            "Epoch 26/30\n",
            "1688/1688 [==============================] - 6s 4ms/step - loss: 0.1535 - accuracy: 0.9419 - val_loss: 0.2021 - val_accuracy: 0.9285\n",
            "Epoch 27/30\n",
            "1688/1688 [==============================] - 6s 4ms/step - loss: 0.1524 - accuracy: 0.9418 - val_loss: 0.1969 - val_accuracy: 0.9253\n",
            "Epoch 28/30\n",
            "1688/1688 [==============================] - 6s 4ms/step - loss: 0.1481 - accuracy: 0.9444 - val_loss: 0.1935 - val_accuracy: 0.9305\n",
            "Epoch 29/30\n",
            "1688/1688 [==============================] - 6s 4ms/step - loss: 0.1473 - accuracy: 0.9449 - val_loss: 0.1958 - val_accuracy: 0.9273\n",
            "Epoch 30/30\n",
            "1688/1688 [==============================] - 7s 4ms/step - loss: 0.1483 - accuracy: 0.9450 - val_loss: 0.1962 - val_accuracy: 0.9293\n"
          ],
          "name": "stdout"
        }
      ]
    },
    {
      "cell_type": "code",
      "metadata": {
        "id": "dRbY-toouBmW",
        "colab_type": "code",
        "colab": {
          "base_uri": "https://localhost:8080/",
          "height": 34
        },
        "outputId": "8b646452-fb2f-4ae6-81c4-04d602a4c32e"
      },
      "source": [
        "test_loss, test_accuracy = new_model.evaluate(test_images_norm, test_labels)"
      ],
      "execution_count": 34,
      "outputs": [
        {
          "output_type": "stream",
          "text": [
            "313/313 [==============================] - 1s 2ms/step - loss: 0.2085 - accuracy: 0.9263\n"
          ],
          "name": "stdout"
        }
      ]
    },
    {
      "cell_type": "code",
      "metadata": {
        "id": "LjyNml2EuuBm",
        "colab_type": "code",
        "colab": {
          "base_uri": "https://localhost:8080/",
          "height": 34
        },
        "outputId": "a7f47854-ba6f-40cf-8bb6-e6816f6fc16d"
      },
      "source": [
        "print(test_accuracy)"
      ],
      "execution_count": 35,
      "outputs": [
        {
          "output_type": "stream",
          "text": [
            "0.9262999892234802\n"
          ],
          "name": "stdout"
        }
      ]
    },
    {
      "cell_type": "code",
      "metadata": {
        "id": "FcgiI7kuuuRn",
        "colab_type": "code",
        "colab": {
          "base_uri": "https://localhost:8080/",
          "height": 34
        },
        "outputId": "53d4567c-9c30-47d9-983e-ddf13fa9932b"
      },
      "source": [
        "print(test_loss)"
      ],
      "execution_count": 36,
      "outputs": [
        {
          "output_type": "stream",
          "text": [
            "0.20847904682159424\n"
          ],
          "name": "stdout"
        }
      ]
    },
    {
      "cell_type": "code",
      "metadata": {
        "id": "aQV1200P3QWv",
        "colab_type": "code",
        "colab": {
          "base_uri": "https://localhost:8080/",
          "height": 34
        },
        "outputId": "0c1254f1-3557-4d66-da86-8195ce5b2659"
      },
      "source": [
        "history_dict = history.history\n",
        "print(history_dict.keys())"
      ],
      "execution_count": 37,
      "outputs": [
        {
          "output_type": "stream",
          "text": [
            "dict_keys(['loss', 'accuracy', 'val_loss', 'val_accuracy'])\n"
          ],
          "name": "stdout"
        }
      ]
    },
    {
      "cell_type": "code",
      "metadata": {
        "id": "fsbv32bzuufE",
        "colab_type": "code",
        "colab": {
          "base_uri": "https://localhost:8080/",
          "height": 295
        },
        "outputId": "416d8902-4919-4278-f436-93a4c63f06f6"
      },
      "source": [
        "plt.plot(history.history['accuracy'])\n",
        "plt.plot(history.history['val_accuracy'])\n",
        "plt.title(\"Accuracy\")\n",
        "plt.ylabel(\"accuracy\")\n",
        "plt.xlabel(\"epoch\")\n",
        "plt.legend(['train', 'test'], loc='upper left')\n",
        "plt.show()"
      ],
      "execution_count": 38,
      "outputs": [
        {
          "output_type": "display_data",
          "data": {
            "image/png": "[encoded data removed]",
            "text/plain": [
              "<Figure size 432x288 with 1 Axes>"
            ]
          },
          "metadata": {
            "tags": [],
            "needs_background": "light"
          }
        }
      ]
    },
    {
      "cell_type": "code",
      "metadata": {
        "id": "jG1BdDsmuueQ",
        "colab_type": "code",
        "colab": {
          "base_uri": "https://localhost:8080/",
          "height": 295
        },
        "outputId": "b8f5cc4c-96d4-46ea-a9c6-5858667dc962"
      },
      "source": [
        "plt.plot(history.history['loss'])\n",
        "plt.plot(history.history['val_loss'])\n",
        "plt.title(\"Loss\")\n",
        "plt.ylabel(\"loss\")\n",
        "plt.xlabel(\"epoch\")\n",
        "plt.legend(['train', 'test'], loc='upper left')\n",
        "plt.show()"
      ],
      "execution_count": 39,
      "outputs": [
        {
          "output_type": "display_data",
          "data": {
            "image/png": "[encoded data removed]",
            "text/plain": [
              "<Figure size 432x288 with 1 Axes>"
            ]
          },
          "metadata": {
            "tags": [],
            "needs_background": "light"
          }
        }
      ]
    },
    {
      "cell_type": "code",
      "metadata": {
        "id": "9cZS8YuHuuQn",
        "colab_type": "code",
        "colab": {}
      },
      "source": [
        "# Making predictions on Test dataset\n",
        "predicted_test_labels = new_model.predict(test_images_norm)"
      ],
      "execution_count": 40,
      "outputs": []
    },
    {
      "cell_type": "code",
      "metadata": {
        "id": "7MvyJYBLvCfN",
        "colab_type": "code",
        "colab": {
          "base_uri": "https://localhost:8080/",
          "height": 34
        },
        "outputId": "c0cc0531-a47d-4072-e75c-5d959734cad0"
      },
      "source": [
        "predicted_test_labels.shape"
      ],
      "execution_count": 41,
      "outputs": [
        {
          "output_type": "execute_result",
          "data": {
            "text/plain": [
              "(10000, 10)"
            ]
          },
          "metadata": {
            "tags": []
          },
          "execution_count": 41
        }
      ]
    },
    {
      "cell_type": "code",
      "metadata": {
        "id": "mFoV9ArTvCuX",
        "colab_type": "code",
        "colab": {
          "base_uri": "https://localhost:8080/",
          "height": 67
        },
        "outputId": "fbe01ac4-d61e-4828-9683-b87c70d31564"
      },
      "source": [
        "predicted_test_labels[88]"
      ],
      "execution_count": 42,
      "outputs": [
        {
          "output_type": "execute_result",
          "data": {
            "text/plain": [
              "array([9.99875069e-01, 1.96069418e-08, 6.79443983e-05, 5.67607094e-06,\n",
              "       2.41610479e-07, 8.67408279e-09, 5.09540005e-05, 1.56753882e-13,\n",
              "       4.47463684e-08, 1.28396354e-14], dtype=float32)"
            ]
          },
          "metadata": {
            "tags": []
          },
          "execution_count": 42
        }
      ]
    },
    {
      "cell_type": "code",
      "metadata": {
        "id": "iPDRlZT-vC5U",
        "colab_type": "code",
        "colab": {
          "base_uri": "https://localhost:8080/",
          "height": 34
        },
        "outputId": "bd417386-f7c4-4b04-a4bd-56e6c01e44c1"
      },
      "source": [
        "predicted_test_labels_index = np.argmax(predicted_test_labels[88])\n",
        "predicted_test_labels_index"
      ],
      "execution_count": 43,
      "outputs": [
        {
          "output_type": "execute_result",
          "data": {
            "text/plain": [
              "0"
            ]
          },
          "metadata": {
            "tags": []
          },
          "execution_count": 43
        }
      ]
    },
    {
      "cell_type": "code",
      "metadata": {
        "id": "S_pFgroqvMCb",
        "colab_type": "code",
        "colab": {
          "base_uri": "https://localhost:8080/",
          "height": 34
        },
        "outputId": "8ba40733-4f16-4734-926e-3344ad2f8c5a"
      },
      "source": [
        "test_labels[88]"
      ],
      "execution_count": 44,
      "outputs": [
        {
          "output_type": "execute_result",
          "data": {
            "text/plain": [
              "0"
            ]
          },
          "metadata": {
            "tags": []
          },
          "execution_count": 44
        }
      ]
    },
    {
      "cell_type": "code",
      "metadata": {
        "id": "x1wzyPz8vMO8",
        "colab_type": "code",
        "colab": {
          "base_uri": "https://localhost:8080/",
          "height": 282
        },
        "outputId": "5018d3fb-15ac-4420-9425-29f9dc4666fc"
      },
      "source": [
        "plt.figure()\n",
        "plt.imshow(np.squeeze(test_images[88]))"
      ],
      "execution_count": 45,
      "outputs": [
        {
          "output_type": "execute_result",
          "data": {
            "text/plain": [
              "<matplotlib.image.AxesImage at 0x7fb0ec4ba0f0>"
            ]
          },
          "metadata": {
            "tags": []
          },
          "execution_count": 45
        },
        {
          "output_type": "display_data",
          "data": {
            "image/png": "[encoded data removed]",
            "text/plain": [
              "<Figure size 432x288 with 1 Axes>"
            ]
          },
          "metadata": {
            "tags": [],
            "needs_background": "light"
          }
        }
      ]
    },
    {
      "cell_type": "code",
      "metadata": {
        "id": "d8nuzipd5Zu3",
        "colab_type": "code",
        "colab": {}
      },
      "source": [
        ""
      ],
      "execution_count": 45,
      "outputs": []
    }
  ]
}